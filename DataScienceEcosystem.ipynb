{
 "cells": [
  {
   "cell_type": "markdown",
   "id": "29a2b846-f505-47b3-a502-0490979c3d97",
   "metadata": {},
   "source": [
    "# Data Science Tools and Ecosystem"
   ]
  },
  {
   "cell_type": "markdown",
   "id": "6f18083f-e451-45cc-9dcb-2f6b9f79012d",
   "metadata": {},
   "source": [
    "# Data Science Tools and Ecosystem"
   ]
  },
  {
   "cell_type": "markdown",
   "id": "68d17f30-9615-4496-a1ee-586ded312a64",
   "metadata": {},
   "source": [
    "In this notebook, Data Science Tools and Ecosystem are summarized."
   ]
  },
  {
   "cell_type": "markdown",
   "id": "0bf95974-0b18-482f-84f0-e99bfb75371d",
   "metadata": {},
   "source": [
    "In this notebook, Data Science Tools and Ecosystem are summarized."
   ]
  },
  {
   "cell_type": "markdown",
   "id": "6b751e77-fc90-4f92-b9d0-61db0353c66b",
   "metadata": {},
   "source": [
    "Some of the popular languages that Data Scientists use are:\n",
    "1. Python\n",
    "2. R\n",
    "3. SQL"
   ]
  },
  {
   "cell_type": "markdown",
   "id": "cb3f931a-cea7-4742-a698-d8dab2a73628",
   "metadata": {
    "tags": []
   },
   "source": [
    "Some of the popular languages that Data Scientists use are:\n",
    "1. Python\n",
    "2. R\n",
    "3. SQL"
   ]
  },
  {
   "cell_type": "markdown",
   "id": "cea3f996-5d5c-4a79-8ec8-8bc4dcc60732",
   "metadata": {},
   "source": [
    "Some of the commonly used libraries used by Data Scientists include:\n",
    "1. Numpy\n",
    "2. Pandas\n",
    "3. Matplotlib\n",
    "4. Seaborn\n",
    "5. TensorFlow"
   ]
  },
  {
   "cell_type": "markdown",
   "id": "fe433d11-4157-45ad-914f-e330dd8f7362",
   "metadata": {},
   "source": [
    "Some of the commonly used libraries used by Data Scientists include:\n",
    "1. Numpy\n",
    "2. Pandas\n",
    "3. Matplotlib\n",
    "4. Seaborn\n",
    "5. TensorFlow"
   ]
  },
  {
   "cell_type": "markdown",
   "id": "f76d9141-33f3-4237-bd78-30e93a2fb37a",
   "metadata": {},
   "source": [
    "|Data Science Tools|\n",
    "|------------------|\n",
    "|Jupyter Notebook|\n",
    "|Colab|\n",
    "|Visula studio code|"
   ]
  },
  {
   "cell_type": "markdown",
   "id": "7f05f11b-2d33-4455-ac8e-5122d75e384a",
   "metadata": {},
   "source": [
    "|Data Science Tools|\n",
    "|------------------|\n",
    "|Jupyter Notebook|\n",
    "|Colab|\n",
    "|Visula studio code|"
   ]
  },
  {
   "cell_type": "markdown",
   "id": "d7d31054-ae9d-4650-a42f-829ac6030d3e",
   "metadata": {},
   "source": [
    "### Below are a few examples of evaluating arithmetic expressions in Python"
   ]
  },
  {
   "cell_type": "markdown",
   "id": "afe1034c-d5e3-4312-b8a1-ac74aed736a6",
   "metadata": {},
   "source": [
    "### Below are a few examples of evaluating arithmetic expressions in Python"
   ]
  },
  {
   "cell_type": "code",
   "execution_count": 1,
   "id": "a1f5de6c-a215-455f-96de-de81a990bd5c",
   "metadata": {
    "tags": []
   },
   "outputs": [
    {
     "data": {
      "text/plain": [
       "17"
      ]
     },
     "execution_count": 1,
     "metadata": {},
     "output_type": "execute_result"
    }
   ],
   "source": [
    "# This a simple arithmetic expression to mutiply then add integers\n",
    "(3*4)+5"
   ]
  },
  {
   "cell_type": "code",
   "execution_count": 3,
   "id": "16814e49-f32d-45fd-89c1-2b368ba56907",
   "metadata": {
    "tags": []
   },
   "outputs": [
    {
     "name": "stdout",
     "output_type": "stream",
     "text": [
      "3.3333333333333335\n"
     ]
    }
   ],
   "source": [
    "#This will convert 200 minutes to hours by diving by 60\n",
    "minutes=60\n",
    "current_hours = 200/ minutes\n",
    "print(current_hours)"
   ]
  },
  {
   "cell_type": "markdown",
   "id": "8da3b45e-8781-4c69-bba4-e23014cdd7ed",
   "metadata": {},
   "source": [
    "**Objectives:**\n",
    "- python\n",
    "- c\n",
    "- c++\n",
    "- javascript\n",
    "- sql\n",
    "- r"
   ]
  },
  {
   "cell_type": "markdown",
   "id": "935627ae-1cf6-46b3-adaf-abfc728c5cc9",
   "metadata": {},
   "source": [
    "**Objectives:**\n",
    "- python\n",
    "- c\n",
    "- c++\n",
    "- javascript\n",
    "- sql\n",
    "- r"
   ]
  },
  {
   "cell_type": "markdown",
   "id": "691854b2-6217-4201-b158-ab27ca7bf77a",
   "metadata": {},
   "source": [
    "## Author\n",
    "Olivia, Kim\n"
   ]
  },
  {
   "cell_type": "markdown",
   "id": "8c4fa6bd-5702-4158-be26-3ee2bd867363",
   "metadata": {},
   "source": [
    "## Author\n",
    "Olivia, Kim\n"
   ]
  }
 ],
 "metadata": {
  "kernelspec": {
   "display_name": "Python 3 (ipykernel)",
   "language": "python",
   "name": "python3"
  },
  "language_info": {
   "codemirror_mode": {
    "name": "ipython",
    "version": 3
   },
   "file_extension": ".py",
   "mimetype": "text/x-python",
   "name": "python",
   "nbconvert_exporter": "python",
   "pygments_lexer": "ipython3",
   "version": "3.10.6"
  }
 },
 "nbformat": 4,
 "nbformat_minor": 5
}
